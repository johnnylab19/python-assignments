{
 "cells": [
  {
   "cell_type": "markdown",
   "id": "e26473e6-7d99-4fef-9d8e-8156347def8c",
   "metadata": {
    "tags": []
   },
   "source": [
    "## Assignment 5 - Data Analysis Project Brainstorm\n",
    "\n",
    "So far in this course, we have introduced you to a few new tools - these include:\n",
    "  - The Unix operating system, and navigating your file structure using the Command Line\n",
    "  - Git and GitHub for collaboration and Versioning\n",
    "  - Basic Python, accessed via Jupyter Notebooks\n",
    "  - Python Functions\n",
    "    \n",
    "In the second half of the quarter, we'll add to this list, focusing on class goals that include:\n",
    "- utilizing packages\n",
    "- working with numpy \n",
    "- making figures (MatPlotLib)\n",
    "- importing complex datasets to a Python project\n",
    "- even, manipulating those datasets (yes, performing data analysis)\n",
    "\n",
    "It's going to be exciting. \n",
    "\n",
    "### Think about your interests and Goals and Brainstorm your Final Project\n",
    "\n",
    "For this assignment, I'd like to you to spend a few moments thinking about how you could apply these new skils to an actual Data Analysis project.  Yeah!! Qesitons you could consider when you think about this: *Do you have a topic, dataset, or problem that motivated you to want to learn more about data analysis? Are there specific computationals skills, or a diciplinary focus that you think coudl help you with your academic or career goals? Is there a data set you currently have, or that you know of that you'd like to analyze in a certain way, visualize better, or just play around with?*\n",
    "\n",
    "To complete the assignment, you can fill out the following markdown cells (we're using a Jupyter Notebook like a form here!) with answers and ideas to the questions listed. \n",
    "\n",
    "Ambitions but attainable requrements for final projects for this course can be found on the [Final Projects Page](../Pages/projects).  You might want to reference that in your brainstorm session. \n",
    "\n",
    "\n",
    "Question 1:  What is a problem you'd like to solve using Data Analysis skills? Think of a question, problem, or transformation that includes a modern dataset that needs to be accessed via computational tools like those we've just started to explore.  This could include exploratory work, or development of a specific kind of Reusable software element (like a calculation, transformation or modeling excercise):"
   ]
  },
  {
   "cell_type": "markdown",
   "id": "61f25581-810c-4975-9432-b4e99ee81297",
   "metadata": {},
   "source": [
    "I'm hoping to work with Dr Shull on one of three available projects this summer/fall/winter. One project involves measurements of bottom water dissolved oxygen consumption in Hood Canal. "
   ]
  },
  {
   "cell_type": "markdown",
   "id": "46d0ef48-11b1-4d0e-b958-f5c1941a6d2c",
   "metadata": {},
   "source": [
    "Question 2: What kind of computational steps do you think this project would entail.  At the least, describe in words a few things you think you woudl need to do. Better - sketch out an 'outline' for a Python project that woudl accomplish these steps. You can refer to simular skills outlined above. "
   ]
  },
  {
   "cell_type": "markdown",
   "id": "e6abcdec-b078-4796-9367-31a342ba8958",
   "metadata": {},
   "source": [
    "The project entails incubating BOD bottle samples in the dark and measuring dissolved oxygen over time and collecting bottom water oxygen concentrations. I need to talk to Shull and get more information but I believe we'd be estimating oxygen consumption (which I think would be a rate) from the incubation bottles and/or the bottom water oxygen gradient we'd compile using the bottom water oxygen concentrations and an estimate of bottom water circulation rate. I don't exactly know how we'd use circulation rate and the oxygen concentrations as a proxy for oxygen consumption rate but maybe I could design a Python function to solve this."
   ]
  },
  {
   "cell_type": "markdown",
   "id": "3a74a7ba-6234-4c8e-9c61-b849b311279d",
   "metadata": {},
   "source": [
    "Question 3: What kind of data woudl you use? Be specific here. Is there a data object type that you know you'd be working with?  Are you working with a specific data set, if so, what is the data source? What format does the data come in and how do you access it?"
   ]
  },
  {
   "cell_type": "markdown",
   "id": "3094b1c8-2502-4dcd-81af-9213c4f430fd",
   "metadata": {},
   "source": [
    "The data set would come from measurements that I take either on the cruise or in the lab using samples from the cruise. They would be float data types I believe."
   ]
  },
  {
   "cell_type": "markdown",
   "id": "c512bf63-1b19-4b24-b47e-1f19c88267a8",
   "metadata": {},
   "source": [
    "#### Submit this file as a notebook (or markdown file... either way), but pushing it to your eoda-assignments project (make sure you've made me a collaborator on that project!)"
   ]
  },
  {
   "cell_type": "code",
   "execution_count": null,
   "id": "bf815819-dd58-4b26-b8ae-f189d7769c6d",
   "metadata": {},
   "outputs": [],
   "source": []
  }
 ],
 "metadata": {
  "kernelspec": {
   "display_name": "Python 3 (ipykernel)",
   "language": "python",
   "name": "python3"
  },
  "language_info": {
   "codemirror_mode": {
    "name": "ipython",
    "version": 3
   },
   "file_extension": ".py",
   "mimetype": "text/x-python",
   "name": "python",
   "nbconvert_exporter": "python",
   "pygments_lexer": "ipython3",
   "version": "3.9.7"
  }
 },
 "nbformat": 4,
 "nbformat_minor": 5
}
